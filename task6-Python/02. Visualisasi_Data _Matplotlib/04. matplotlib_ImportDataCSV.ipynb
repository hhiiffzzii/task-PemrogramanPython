{
 "cells": [
  {
   "attachments": {},
   "cell_type": "markdown",
   "metadata": {},
   "source": [
    "### Matplotlib - Import Data CSV"
   ]
  },
  {
   "cell_type": "code",
   "execution_count": null,
   "metadata": {},
   "outputs": [],
   "source": [
    "import pandas as pd\n",
    "\n",
    "pd = pd.read_csv('penggunabahasapemrograman.csv')\n",
    "pd"
   ]
  },
  {
   "attachments": {},
   "cell_type": "markdown",
   "metadata": {},
   "source": [
    "Tampilkan Key dan Value"
   ]
  },
  {
   "cell_type": "code",
   "execution_count": null,
   "metadata": {},
   "outputs": [],
   "source": [
    "from matplotlib import pyplot as plt\n",
    "import numpy as np\n",
    "import csv\n",
    "\n",
    "plt.style.use('fivethirtyeight')\n",
    "\n",
    "with open('penggunabahasapemrograman.csv') as csv_file:\n",
    "    csv_reader = csv.DictReader(csv_file)\n",
    "\n",
    "    # menampilkan key dan value\n",
    "    row = next(csv_reader)\n",
    "    print(row)"
   ]
  },
  {
   "attachments": {},
   "cell_type": "markdown",
   "metadata": {},
   "source": [
    "Tampilkan Value Berdasarkan Nama Key"
   ]
  },
  {
   "cell_type": "code",
   "execution_count": null,
   "metadata": {},
   "outputs": [],
   "source": [
    "from matplotlib import pyplot as plt\n",
    "import numpy as np\n",
    "import csv\n",
    "\n",
    "plt.style.use('fivethirtyeight')\n",
    "\n",
    "with open('penggunabahasapemrograman.csv') as csv_file:\n",
    "    csv_reader = csv.DictReader(csv_file)\n",
    "\n",
    "    # hanya menampilkan value berdasarkan nama \"key\"\n",
    "    row = next(csv_reader)\n",
    "    print(row['JumlahPengguna'].split(';'))"
   ]
  },
  {
   "attachments": {},
   "cell_type": "markdown",
   "metadata": {},
   "source": [
    "Hitung Semua Jumlah Pengguna"
   ]
  },
  {
   "cell_type": "code",
   "execution_count": null,
   "metadata": {},
   "outputs": [],
   "source": [
    "from matplotlib import pyplot as plt\n",
    "import numpy as np\n",
    "import csv\n",
    "from collections import Counter\n",
    "\n",
    "plt.style.use('fivethirtyeight')\n",
    "\n",
    "with open('penggunabahasapemrograman.csv') as csv_file:\n",
    "    csv_reader = csv.DictReader(csv_file)\n",
    "    \n",
    "    # hitung semua jumlah pengguna\n",
    "    hitung = Counter()\n",
    "    for row in csv_reader:\n",
    "        hitung.update(row['JumlahPengguna'].split(';'))\n",
    "    \n",
    "    print(hitung)"
   ]
  },
  {
   "attachments": {},
   "cell_type": "markdown",
   "metadata": {},
   "source": [
    "Tampilkan Jumlah Pengguna Teratas dan Batas Tertentu"
   ]
  },
  {
   "cell_type": "code",
   "execution_count": null,
   "metadata": {},
   "outputs": [],
   "source": [
    "from matplotlib import pyplot as plt\n",
    "import numpy as np\n",
    "import csv\n",
    "from collections import Counter\n",
    "\n",
    "plt.style.use('fivethirtyeight')\n",
    "\n",
    "with open('penggunabahasapemrograman.csv') as csv_file:\n",
    "    csv_reader = csv.DictReader(csv_file)\n",
    "    \n",
    "    # hitung semua jumlah pengguna\n",
    "    hitung = Counter()\n",
    "    for row in csv_reader:\n",
    "        hitung.update(row['JumlahPengguna'].split(';'))\n",
    "    \n",
    "    print(hitung.most_common(15))"
   ]
  },
  {
   "attachments": {},
   "cell_type": "markdown",
   "metadata": {},
   "source": [
    "Pisahkan Value Bahasa dan Jumlah Pengguna ke Dalam Masing - Masing List"
   ]
  },
  {
   "cell_type": "code",
   "execution_count": null,
   "metadata": {},
   "outputs": [],
   "source": [
    "from matplotlib import pyplot as plt\n",
    "import numpy as np\n",
    "import csv\n",
    "from collections import Counter\n",
    "\n",
    "plt.style.use('fivethirtyeight')\n",
    "\n",
    "with open('penggunabahasapemrograman.csv') as csv_file:\n",
    "    csv_reader = csv.DictReader(csv_file)\n",
    "    \n",
    "    hitung = Counter()\n",
    "\n",
    "    for row in csv_reader:\n",
    "        hitung.update(row['JumlahPengguna'].split(';'))\n",
    "\n",
    "    bahasa = []\n",
    "    pengguna = []\n",
    "    \n",
    "    for item in hitung.most_common(15):\n",
    "        bahasa.append(item[0])\n",
    "        pengguna.append(item[0])\n",
    "    print(bahasa)\n",
    "    print(pengguna)"
   ]
  },
  {
   "attachments": {},
   "cell_type": "markdown",
   "metadata": {},
   "source": [
    "Tampilkan Menjadi Plot Bar"
   ]
  },
  {
   "cell_type": "code",
   "execution_count": null,
   "metadata": {},
   "outputs": [],
   "source": [
    "from matplotlib import pyplot as plt\n",
    "import numpy as np\n",
    "import csv\n",
    "from collections import Counter\n",
    "\n",
    "plt.style.use('fivethirtyeight')\n",
    "\n",
    "with open('penggunabahasapemrograman.csv') as csv_file:\n",
    "    csv_reader = csv.DictReader(csv_file)\n",
    "    \n",
    "\n",
    "    hitung = Counter()\n",
    "    for row in csv_reader:\n",
    "        hitung.update(row['JumlahPengguna'].split(';'))\n",
    "    bahasa = []\n",
    "    pengguna = []\n",
    "    \n",
    "    for item in hitung.most_common(15):\n",
    "        bahasa.append(item[0])\n",
    "        pengguna.append(item[0])\n",
    "    plt.bar(bahasa, pengguna)\n",
    "    \n",
    "    plt.title(\"Bahasa Pemrograman yang Paling Banyak Digunakan\")\n",
    "    plt.xlabel(\"Bahasa Pemrograman\")\n",
    "    plt.ylabel(\"Jumlah Pengguna\")\n",
    "    plt.show"
   ]
  },
  {
   "attachments": {},
   "cell_type": "markdown",
   "metadata": {},
   "source": [
    "Ubah Posisi Plot Menjadi Horizontal"
   ]
  },
  {
   "cell_type": "code",
   "execution_count": null,
   "metadata": {},
   "outputs": [],
   "source": [
    "from matplotlib import pyplot as plt\n",
    "import numpy as np\n",
    "import csv\n",
    "from collections import Counter\n",
    "\n",
    "plt.style.use('fivethirtyeight')\n",
    "\n",
    "with open('penggunabahasapemrograman.csv') as csv_file:\n",
    "    csv_reader = csv.DictReader(csv_file)\n",
    "    \n",
    "\n",
    "    hitung = Counter()\n",
    "    for row in csv_reader:\n",
    "        hitung.update(row['JumlahPengguna'].split(';'))\n",
    "    bahasa = []\n",
    "    pengguna = []\n",
    "    \n",
    "    for item in hitung.most_common(15):\n",
    "        bahasa.append(item[0])\n",
    "        pengguna.append(item[0])\n",
    "    plt.barh(bahasa, pengguna)\n",
    "    \n",
    "    plt.title(\"Bahasa Pemrograman yang Paling Banyak Digunakan\")\n",
    "    plt.xlabel(\"Bahasa Pemrograman\")\n",
    "    plt.ylabel(\"Jumlah Pengguna\")\n",
    "    plt.show"
   ]
  },
  {
   "attachments": {},
   "cell_type": "markdown",
   "metadata": {},
   "source": [
    "Reverse (Tampilkan Data dari Banyak ke Sedikit)"
   ]
  },
  {
   "cell_type": "code",
   "execution_count": null,
   "metadata": {},
   "outputs": [],
   "source": [
    "from matplotlib import pyplot as plt\n",
    "import numpy as np\n",
    "import csv\n",
    "from collections import Counter\n",
    "\n",
    "plt.style.use('fivethirtyeight')\n",
    "\n",
    "with open('penggunabahasapemrograman.csv') as csv_file:\n",
    "    csv_reader = csv.DictReader(csv_file)\n",
    "    \n",
    "\n",
    "    hitung = Counter()\n",
    "    for row in csv_reader:\n",
    "        hitung.update(row['JumlahPengguna'].split(';'))\n",
    "    bahasa = []\n",
    "    pengguna = []\n",
    "    \n",
    "    for item in hitung.most_common(15):\n",
    "        bahasa.append(item[0])\n",
    "        pengguna.append(item[0])\n",
    "     # menampilkan data dari yang paling banyak\n",
    "     # reverse, digunakan untuk menampilkan kebalikan dari jumlah sebelumnya   \n",
    "    bahasa.reverse()\n",
    "    pengguna.reverse()\n",
    "    plt.barh(bahasa, pengguna)\n",
    "    \n",
    "    plt.title(\"Bahasa Pemrograman yang Paling Banyak Digunakan\")\n",
    "    plt.xlabel(\"Bahasa Pemrograman\")\n",
    "    plt.ylabel(\"Jumlah Pengguna\")\n",
    "    plt.show"
   ]
  }
 ],
 "metadata": {
  "kernelspec": {
   "display_name": "Python 3",
   "language": "python",
   "name": "python3"
  },
  "language_info": {
   "codemirror_mode": {
    "name": "ipython",
    "version": 3
   },
   "file_extension": ".py",
   "mimetype": "text/x-python",
   "name": "python",
   "nbconvert_exporter": "python",
   "pygments_lexer": "ipython3",
   "version": "3.11.2"
  },
  "orig_nbformat": 4
 },
 "nbformat": 4,
 "nbformat_minor": 2
}
